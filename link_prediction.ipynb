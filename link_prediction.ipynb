{
  "nbformat": 4,
  "nbformat_minor": 0,
  "metadata": {
    "colab": {
      "provenance": []
    },
    "kernelspec": {
      "name": "python3",
      "display_name": "Python 3"
    },
    "language_info": {
      "name": "python"
    },
    "widgets": {
      "application/vnd.jupyter.widget-state+json": {
        "4165f3e0321b4bc3923dc21c3d23576a": {
          "model_module": "@jupyter-widgets/controls",
          "model_name": "HBoxModel",
          "model_module_version": "1.5.0",
          "state": {
            "_dom_classes": [],
            "_model_module": "@jupyter-widgets/controls",
            "_model_module_version": "1.5.0",
            "_model_name": "HBoxModel",
            "_view_count": null,
            "_view_module": "@jupyter-widgets/controls",
            "_view_module_version": "1.5.0",
            "_view_name": "HBoxView",
            "box_style": "",
            "children": [
              "IPY_MODEL_9f6233176e4649d8bff94b40ed01150f",
              "IPY_MODEL_5d7125bce29b4b2faf142e1f1cc4f1eb",
              "IPY_MODEL_43164d8deb654deaa78c656732ebb819"
            ],
            "layout": "IPY_MODEL_8d90c320714f4204ad81f089232826e3"
          }
        },
        "9f6233176e4649d8bff94b40ed01150f": {
          "model_module": "@jupyter-widgets/controls",
          "model_name": "HTMLModel",
          "model_module_version": "1.5.0",
          "state": {
            "_dom_classes": [],
            "_model_module": "@jupyter-widgets/controls",
            "_model_module_version": "1.5.0",
            "_model_name": "HTMLModel",
            "_view_count": null,
            "_view_module": "@jupyter-widgets/controls",
            "_view_module_version": "1.5.0",
            "_view_name": "HTMLView",
            "description": "",
            "description_tooltip": null,
            "layout": "IPY_MODEL_e6d8f4e3c9b24a81a5fc6f4219551e45",
            "placeholder": "​",
            "style": "IPY_MODEL_990128b3a27641ea9082f12e3a184445",
            "value": "100%"
          }
        },
        "5d7125bce29b4b2faf142e1f1cc4f1eb": {
          "model_module": "@jupyter-widgets/controls",
          "model_name": "FloatProgressModel",
          "model_module_version": "1.5.0",
          "state": {
            "_dom_classes": [],
            "_model_module": "@jupyter-widgets/controls",
            "_model_module_version": "1.5.0",
            "_model_name": "FloatProgressModel",
            "_view_count": null,
            "_view_module": "@jupyter-widgets/controls",
            "_view_module_version": "1.5.0",
            "_view_name": "ProgressView",
            "bar_style": "success",
            "description": "",
            "description_tooltip": null,
            "layout": "IPY_MODEL_686027a3448749af985299708491c088",
            "max": 10000,
            "min": 0,
            "orientation": "horizontal",
            "style": "IPY_MODEL_77a4567540ab470c96666ad94e92fce0",
            "value": 10000
          }
        },
        "43164d8deb654deaa78c656732ebb819": {
          "model_module": "@jupyter-widgets/controls",
          "model_name": "HTMLModel",
          "model_module_version": "1.5.0",
          "state": {
            "_dom_classes": [],
            "_model_module": "@jupyter-widgets/controls",
            "_model_module_version": "1.5.0",
            "_model_name": "HTMLModel",
            "_view_count": null,
            "_view_module": "@jupyter-widgets/controls",
            "_view_module_version": "1.5.0",
            "_view_name": "HTMLView",
            "description": "",
            "description_tooltip": null,
            "layout": "IPY_MODEL_98ebd8a77ef6482ea2cdb8b0fd7c8dac",
            "placeholder": "​",
            "style": "IPY_MODEL_ebf183b25e59422caeba4f13e83786dc",
            "value": " 10000/10000 [1:08:00&lt;00:00,  2.14it/s]"
          }
        },
        "8d90c320714f4204ad81f089232826e3": {
          "model_module": "@jupyter-widgets/base",
          "model_name": "LayoutModel",
          "model_module_version": "1.2.0",
          "state": {
            "_model_module": "@jupyter-widgets/base",
            "_model_module_version": "1.2.0",
            "_model_name": "LayoutModel",
            "_view_count": null,
            "_view_module": "@jupyter-widgets/base",
            "_view_module_version": "1.2.0",
            "_view_name": "LayoutView",
            "align_content": null,
            "align_items": null,
            "align_self": null,
            "border": null,
            "bottom": null,
            "display": null,
            "flex": null,
            "flex_flow": null,
            "grid_area": null,
            "grid_auto_columns": null,
            "grid_auto_flow": null,
            "grid_auto_rows": null,
            "grid_column": null,
            "grid_gap": null,
            "grid_row": null,
            "grid_template_areas": null,
            "grid_template_columns": null,
            "grid_template_rows": null,
            "height": null,
            "justify_content": null,
            "justify_items": null,
            "left": null,
            "margin": null,
            "max_height": null,
            "max_width": null,
            "min_height": null,
            "min_width": null,
            "object_fit": null,
            "object_position": null,
            "order": null,
            "overflow": null,
            "overflow_x": null,
            "overflow_y": null,
            "padding": null,
            "right": null,
            "top": null,
            "visibility": null,
            "width": null
          }
        },
        "e6d8f4e3c9b24a81a5fc6f4219551e45": {
          "model_module": "@jupyter-widgets/base",
          "model_name": "LayoutModel",
          "model_module_version": "1.2.0",
          "state": {
            "_model_module": "@jupyter-widgets/base",
            "_model_module_version": "1.2.0",
            "_model_name": "LayoutModel",
            "_view_count": null,
            "_view_module": "@jupyter-widgets/base",
            "_view_module_version": "1.2.0",
            "_view_name": "LayoutView",
            "align_content": null,
            "align_items": null,
            "align_self": null,
            "border": null,
            "bottom": null,
            "display": null,
            "flex": null,
            "flex_flow": null,
            "grid_area": null,
            "grid_auto_columns": null,
            "grid_auto_flow": null,
            "grid_auto_rows": null,
            "grid_column": null,
            "grid_gap": null,
            "grid_row": null,
            "grid_template_areas": null,
            "grid_template_columns": null,
            "grid_template_rows": null,
            "height": null,
            "justify_content": null,
            "justify_items": null,
            "left": null,
            "margin": null,
            "max_height": null,
            "max_width": null,
            "min_height": null,
            "min_width": null,
            "object_fit": null,
            "object_position": null,
            "order": null,
            "overflow": null,
            "overflow_x": null,
            "overflow_y": null,
            "padding": null,
            "right": null,
            "top": null,
            "visibility": null,
            "width": null
          }
        },
        "990128b3a27641ea9082f12e3a184445": {
          "model_module": "@jupyter-widgets/controls",
          "model_name": "DescriptionStyleModel",
          "model_module_version": "1.5.0",
          "state": {
            "_model_module": "@jupyter-widgets/controls",
            "_model_module_version": "1.5.0",
            "_model_name": "DescriptionStyleModel",
            "_view_count": null,
            "_view_module": "@jupyter-widgets/base",
            "_view_module_version": "1.2.0",
            "_view_name": "StyleView",
            "description_width": ""
          }
        },
        "686027a3448749af985299708491c088": {
          "model_module": "@jupyter-widgets/base",
          "model_name": "LayoutModel",
          "model_module_version": "1.2.0",
          "state": {
            "_model_module": "@jupyter-widgets/base",
            "_model_module_version": "1.2.0",
            "_model_name": "LayoutModel",
            "_view_count": null,
            "_view_module": "@jupyter-widgets/base",
            "_view_module_version": "1.2.0",
            "_view_name": "LayoutView",
            "align_content": null,
            "align_items": null,
            "align_self": null,
            "border": null,
            "bottom": null,
            "display": null,
            "flex": null,
            "flex_flow": null,
            "grid_area": null,
            "grid_auto_columns": null,
            "grid_auto_flow": null,
            "grid_auto_rows": null,
            "grid_column": null,
            "grid_gap": null,
            "grid_row": null,
            "grid_template_areas": null,
            "grid_template_columns": null,
            "grid_template_rows": null,
            "height": null,
            "justify_content": null,
            "justify_items": null,
            "left": null,
            "margin": null,
            "max_height": null,
            "max_width": null,
            "min_height": null,
            "min_width": null,
            "object_fit": null,
            "object_position": null,
            "order": null,
            "overflow": null,
            "overflow_x": null,
            "overflow_y": null,
            "padding": null,
            "right": null,
            "top": null,
            "visibility": null,
            "width": null
          }
        },
        "77a4567540ab470c96666ad94e92fce0": {
          "model_module": "@jupyter-widgets/controls",
          "model_name": "ProgressStyleModel",
          "model_module_version": "1.5.0",
          "state": {
            "_model_module": "@jupyter-widgets/controls",
            "_model_module_version": "1.5.0",
            "_model_name": "ProgressStyleModel",
            "_view_count": null,
            "_view_module": "@jupyter-widgets/base",
            "_view_module_version": "1.2.0",
            "_view_name": "StyleView",
            "bar_color": null,
            "description_width": ""
          }
        },
        "98ebd8a77ef6482ea2cdb8b0fd7c8dac": {
          "model_module": "@jupyter-widgets/base",
          "model_name": "LayoutModel",
          "model_module_version": "1.2.0",
          "state": {
            "_model_module": "@jupyter-widgets/base",
            "_model_module_version": "1.2.0",
            "_model_name": "LayoutModel",
            "_view_count": null,
            "_view_module": "@jupyter-widgets/base",
            "_view_module_version": "1.2.0",
            "_view_name": "LayoutView",
            "align_content": null,
            "align_items": null,
            "align_self": null,
            "border": null,
            "bottom": null,
            "display": null,
            "flex": null,
            "flex_flow": null,
            "grid_area": null,
            "grid_auto_columns": null,
            "grid_auto_flow": null,
            "grid_auto_rows": null,
            "grid_column": null,
            "grid_gap": null,
            "grid_row": null,
            "grid_template_areas": null,
            "grid_template_columns": null,
            "grid_template_rows": null,
            "height": null,
            "justify_content": null,
            "justify_items": null,
            "left": null,
            "margin": null,
            "max_height": null,
            "max_width": null,
            "min_height": null,
            "min_width": null,
            "object_fit": null,
            "object_position": null,
            "order": null,
            "overflow": null,
            "overflow_x": null,
            "overflow_y": null,
            "padding": null,
            "right": null,
            "top": null,
            "visibility": null,
            "width": null
          }
        },
        "ebf183b25e59422caeba4f13e83786dc": {
          "model_module": "@jupyter-widgets/controls",
          "model_name": "DescriptionStyleModel",
          "model_module_version": "1.5.0",
          "state": {
            "_model_module": "@jupyter-widgets/controls",
            "_model_module_version": "1.5.0",
            "_model_name": "DescriptionStyleModel",
            "_view_count": null,
            "_view_module": "@jupyter-widgets/base",
            "_view_module_version": "1.2.0",
            "_view_name": "StyleView",
            "description_width": ""
          }
        }
      }
    }
  },
  "cells": [
    {
      "cell_type": "markdown",
      "source": [
        "Installing torch_geometric"
      ],
      "metadata": {
        "id": "0X1lvHlJLwCp"
      }
    },
    {
      "cell_type": "code",
      "source": [
        "!pip install pyg_lib torch_scatter torch_sparse torch_cluster torch_spline_conv torch_geometric -f https://data.pyg.org/whl/torch-1.13.0+cpu.html"
      ],
      "metadata": {
        "id": "APsjPRMYI4z4"
      },
      "execution_count": null,
      "outputs": []
    },
    {
      "cell_type": "code",
      "execution_count": 3,
      "metadata": {
        "id": "194HQAXUfZCm"
      },
      "outputs": [],
      "source": [
        "import torch\n",
        "import numpy as np\n",
        "import pandas as pd\n",
        "import matplotlib as plt\n",
        "import torch\n",
        "import torch.nn as nn\n",
        "import torch.nn.functional as F\n",
        "import torch.utils.data as data\n",
        "import torch.optim as opt\n",
        "import matplotlib.pyplot as plt\n",
        "from torch import Tensor\n",
        "from tqdm.notebook import tqdm\n",
        "from scipy.ndimage import gaussian_filter1d\n",
        "from torch_geometric.data import Data"
      ]
    },
    {
      "cell_type": "code",
      "source": [
        "from torch_geometric.datasets import WordNet18RR\n",
        "\n",
        "dataset = WordNet18RR(root='data/WordNet18RR')\n",
        "\n",
        "print()\n",
        "print(f'Dataset: {dataset}:')\n",
        "print('======================')\n",
        "print(f'Number of graphs: {len(dataset)}')\n",
        "print(f'Number of features: {dataset.num_features}')\n",
        "print(f'Number of classes: {dataset.num_classes}')\n",
        "\n",
        "data = dataset[0]  # Get the first graph object.\n",
        "\n",
        "print()\n",
        "print(data)\n",
        "print('===========================================================================================================')\n",
        "\n",
        "# Gather some statistics about the graph.\n",
        "print(f'Number of nodes: {data.num_nodes}')\n",
        "print(f'Number of edges: {data.num_edges}')\n",
        "print(f'Average node degree: {data.num_edges / data.num_nodes:.2f}')\n",
        "print(f'Number of training nodes: {data.train_mask.sum()}')\n",
        "print(f'Training node label rate: {int(data.train_mask.sum()) / data.num_nodes:.2f}')\n",
        "print(f'Has isolated nodes: {data.has_isolated_nodes()}')\n",
        "print(f'Has self-loops: {data.has_self_loops()}')\n",
        "print(f'Is undirected: {data.is_undirected()}')\n",
        "print(f'Possible types of edges: {torch.unique(data.edge_type).numpy()}')\n",
        "edge_types = torch.unique(data.edge_type).numpy().shape[0]\n",
        "print(f'Train edges: {data.train_mask.sum()}')\n",
        "print(f'Validation edges: {data.val_mask.sum()}')\n",
        "print(f'Test edges: {data.test_mask.sum()}')"
      ],
      "metadata": {
        "id": "0oZHXNNPfeML",
        "colab": {
          "base_uri": "https://localhost:8080/"
        },
        "outputId": "b5b48bf7-0b4a-4b88-f248-73cb8b911b9e"
      },
      "execution_count": 5,
      "outputs": [
        {
          "output_type": "stream",
          "name": "stderr",
          "text": [
            "Downloading https://raw.githubusercontent.com/villmow/datasets_knowledge_embedding/master/WN18RR/original/train.txt\n",
            "Downloading https://raw.githubusercontent.com/villmow/datasets_knowledge_embedding/master/WN18RR/original/valid.txt\n",
            "Downloading https://raw.githubusercontent.com/villmow/datasets_knowledge_embedding/master/WN18RR/original/test.txt\n",
            "Processing...\n"
          ]
        },
        {
          "output_type": "stream",
          "name": "stdout",
          "text": [
            "\n",
            "Dataset: WordNet18RR():\n",
            "======================\n",
            "Number of graphs: 1\n",
            "Number of features: 0\n",
            "Number of classes: 0\n",
            "\n",
            "Data(edge_index=[2, 93003], edge_type=[93003], train_mask=[93003], val_mask=[93003], test_mask=[93003], num_nodes=40943)\n",
            "===========================================================================================================\n",
            "Number of nodes: 40943\n",
            "Number of edges: 93003\n",
            "Average node degree: 2.27\n",
            "Number of training nodes: 86835\n",
            "Training node label rate: 2.12\n",
            "Has isolated nodes: False\n",
            "Has self-loops: True\n",
            "Is undirected: False\n",
            "Possible types of edges: [ 0  1  2  3  4  5  6  7  8  9 10]\n",
            "Train edges: 86835\n",
            "Validation edges: 3034\n",
            "Test edges: 3134\n"
          ]
        },
        {
          "output_type": "stream",
          "name": "stderr",
          "text": [
            "Done!\n"
          ]
        }
      ]
    },
    {
      "cell_type": "code",
      "source": [
        "# concatenate edge_index and edge_type in one tensor\n",
        "triplets = torch.cat((data.edge_index[0], data.edge_type, data.edge_index[1])).reshape((3, -1))\n",
        "triplets"
      ],
      "metadata": {
        "colab": {
          "base_uri": "https://localhost:8080/"
        },
        "id": "I4wu596VgQR5",
        "outputId": "6eba0109-403a-48c6-a8ac-1f19138149b1"
      },
      "execution_count": 6,
      "outputs": [
        {
          "output_type": "execute_result",
          "data": {
            "text/plain": [
              "tensor([[    0,     0,     1,  ..., 40933, 40934, 40935],\n",
              "        [    3,     9,    10,  ...,     3,     3,     3],\n",
              "        [10211, 25525,  3891,  ...,  8943,  8648,  6809]])"
            ]
          },
          "metadata": {},
          "execution_count": 6
        }
      ]
    },
    {
      "cell_type": "code",
      "source": [
        "def triplets_by_mask(triplets: Tensor, mask: Tensor) -> Tensor:\n",
        "  return triplets[:, torch.where(mask)[0].numpy()]\n",
        "\n",
        "# split triples into train, validation and test\n",
        "train_triplets = triplets_by_mask(triplets, data.train_mask)\n",
        "val_triplets = triplets_by_mask(triplets, data.val_mask)\n",
        "test_triplets = triplets_by_mask(triplets, data.test_mask)\n",
        "\n",
        "train_triplets.shape, val_triplets.shape, test_triplets.shape"
      ],
      "metadata": {
        "colab": {
          "base_uri": "https://localhost:8080/"
        },
        "id": "AvOKtiwfJL7d",
        "outputId": "157c80db-3ce5-48c8-c660-3cdbfe78e1b6"
      },
      "execution_count": 7,
      "outputs": [
        {
          "output_type": "execute_result",
          "data": {
            "text/plain": [
              "(torch.Size([3, 86835]), torch.Size([3, 3034]), torch.Size([3, 3134]))"
            ]
          },
          "metadata": {},
          "execution_count": 7
        }
      ]
    },
    {
      "cell_type": "code",
      "source": [
        "from transe import TransE\n",
        "\n",
        "# use hyperparameters from paper\n",
        "model = TransE(\n",
        "  embedding_size=20, \n",
        "  margin=2, \n",
        "  num_nodes=data.num_nodes, \n",
        "  num_diff_edges=edge_types, \n",
        "  p_norm=1\n",
        ")\n",
        "\n",
        "losses = []\n",
        "val_losses = []"
      ],
      "metadata": {
        "id": "6tHKvtqoJNT1"
      },
      "execution_count": 8,
      "outputs": []
    },
    {
      "cell_type": "code",
      "source": [
        "opt = torch.optim.Adam(model.parameters(), lr=0.05)"
      ],
      "metadata": {
        "id": "nnN5imVSJPEg"
      },
      "execution_count": 9,
      "outputs": []
    },
    {
      "cell_type": "code",
      "source": [
        "epochs = 10_000\n",
        "batch_size = 4096\n",
        "\n",
        "for epoch in tqdm(range(epochs)):\n",
        "\n",
        "  # permutation for batch sampling\n",
        "  permutation = torch.randperm(train_triplets.shape[1])\n",
        "\n",
        "  for i in range(0, train_triplets.shape[1], batch_size):\n",
        "    # sampling batch\n",
        "    indices = permutation[i : i + batch_size]\n",
        "    loss = model.loss(\n",
        "        train_triplets[0, indices],\n",
        "        train_triplets[1, indices],\n",
        "        train_triplets[2, indices]\n",
        "    ).sum()\n",
        "\n",
        "    opt.zero_grad()\n",
        "    loss.backward()\n",
        "    opt.step()\n",
        "\n",
        "    losses.append(loss.item() / indices.shape[0])\n",
        "  \n",
        "  # calculating loss for validation dataset\n",
        "  val_losses.append(model.loss(\n",
        "      val_triplets[0], val_triplets[1], val_triplets[2]\n",
        "  ).sum().item() / val_triplets.shape[1])"
      ],
      "metadata": {
        "colab": {
          "base_uri": "https://localhost:8080/",
          "height": 49,
          "referenced_widgets": [
            "4165f3e0321b4bc3923dc21c3d23576a",
            "9f6233176e4649d8bff94b40ed01150f",
            "5d7125bce29b4b2faf142e1f1cc4f1eb",
            "43164d8deb654deaa78c656732ebb819",
            "8d90c320714f4204ad81f089232826e3",
            "e6d8f4e3c9b24a81a5fc6f4219551e45",
            "990128b3a27641ea9082f12e3a184445",
            "686027a3448749af985299708491c088",
            "77a4567540ab470c96666ad94e92fce0",
            "98ebd8a77ef6482ea2cdb8b0fd7c8dac",
            "ebf183b25e59422caeba4f13e83786dc"
          ]
        },
        "id": "3Csh8OPdJQxT",
        "outputId": "6e1e450d-1dff-48fe-cb2c-cc42d317e707"
      },
      "execution_count": 10,
      "outputs": [
        {
          "output_type": "display_data",
          "data": {
            "text/plain": [
              "  0%|          | 0/10000 [00:00<?, ?it/s]"
            ],
            "application/vnd.jupyter.widget-view+json": {
              "version_major": 2,
              "version_minor": 0,
              "model_id": "4165f3e0321b4bc3923dc21c3d23576a"
            }
          },
          "metadata": {}
        }
      ]
    },
    {
      "cell_type": "code",
      "source": [
        "plt.plot(gaussian_filter1d(losses[:], 1))\n",
        "plt.title(\"Train losses\")\n",
        "plt.show()\n",
        "plt.plot(gaussian_filter1d(val_losses[2000:], 10), color='orange')\n",
        "plt.title(\"Val losses (tail)\")\n",
        "plt.show()"
      ],
      "metadata": {
        "colab": {
          "base_uri": "https://localhost:8080/",
          "height": 545
        },
        "id": "bGaPl8ARJSC0",
        "outputId": "200a21c3-0ab1-4c1d-c530-f793c53a73a4"
      },
      "execution_count": 11,
      "outputs": [
        {
          "output_type": "display_data",
          "data": {
            "text/plain": [
              "<Figure size 432x288 with 1 Axes>"
            ],
            "image/png": "[encoded data removed]"
          },
          "metadata": {
            "needs_background": "light"
          }
        },
        {
          "output_type": "display_data",
          "data": {
            "text/plain": [
              "<Figure size 432x288 with 1 Axes>"
            ],
            "image/png": "[encoded data removed]"
          },
          "metadata": {
            "needs_background": "light"
          }
        }
      ]
    },
    {
      "cell_type": "code",
      "source": [
        "from accuracy_utils import mean_accuracy\n",
        "\n",
        "mr, hts10 = mean_accuracy(\n",
        "    model.get_entities_embs(), \n",
        "    model.get_relations_embs(), \n",
        "    test_triplets, \n",
        "    p_norm=1\n",
        ")\n",
        "print(\"Mean rank:\", mr)\n",
        "print(\"Hits@10:\", hts10)"
      ],
      "metadata": {
        "colab": {
          "base_uri": "https://localhost:8080/"
        },
        "id": "mYAMXqv-JdBJ",
        "outputId": "2e500d64-ff92-4cb9-c6c9-482ba007e212"
      },
      "execution_count": 12,
      "outputs": [
        {
          "output_type": "stream",
          "name": "stdout",
          "text": [
            "Mean rank: 3636.9925015954054\n",
            "Hits@10: 0.4152839821314614\n"
          ]
        }
      ]
    }
  ]
}