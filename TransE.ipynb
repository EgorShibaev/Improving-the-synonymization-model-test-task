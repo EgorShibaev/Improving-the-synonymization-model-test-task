{
  "nbformat": 4,
  "nbformat_minor": 0,
  "metadata": {
    "colab": {
      "provenance": []
    },
    "kernelspec": {
      "name": "python3",
      "display_name": "Python 3"
    },
    "language_info": {
      "name": "python"
    },
    "widgets": {
      "application/vnd.jupyter.widget-state+json": {
        "1311727541854c07a8c9023927d979c3": {
          "model_module": "@jupyter-widgets/controls",
          "model_name": "HBoxModel",
          "model_module_version": "1.5.0",
          "state": {
            "_dom_classes": [],
            "_model_module": "@jupyter-widgets/controls",
            "_model_module_version": "1.5.0",
            "_model_name": "HBoxModel",
            "_view_count": null,
            "_view_module": "@jupyter-widgets/controls",
            "_view_module_version": "1.5.0",
            "_view_name": "HBoxView",
            "box_style": "",
            "children": [
              "IPY_MODEL_3a2fe6efcea14540bedb3bb9480e19d0",
              "IPY_MODEL_bf2ebca902de4b6fba2b38057a0f2c80",
              "IPY_MODEL_360ed32b8a014642bf56a5663989daac"
            ],
            "layout": "IPY_MODEL_a6d93a0a77a64f908c12668eba61210e"
          }
        },
        "3a2fe6efcea14540bedb3bb9480e19d0": {
          "model_module": "@jupyter-widgets/controls",
          "model_name": "HTMLModel",
          "model_module_version": "1.5.0",
          "state": {
            "_dom_classes": [],
            "_model_module": "@jupyter-widgets/controls",
            "_model_module_version": "1.5.0",
            "_model_name": "HTMLModel",
            "_view_count": null,
            "_view_module": "@jupyter-widgets/controls",
            "_view_module_version": "1.5.0",
            "_view_name": "HTMLView",
            "description": "",
            "description_tooltip": null,
            "layout": "IPY_MODEL_8c57c0e5fcfa466dabcabde66c5365ff",
            "placeholder": "​",
            "style": "IPY_MODEL_24dbcadfebd74d44becab5d0b9e3973d",
            "value": "100%"
          }
        },
        "bf2ebca902de4b6fba2b38057a0f2c80": {
          "model_module": "@jupyter-widgets/controls",
          "model_name": "FloatProgressModel",
          "model_module_version": "1.5.0",
          "state": {
            "_dom_classes": [],
            "_model_module": "@jupyter-widgets/controls",
            "_model_module_version": "1.5.0",
            "_model_name": "FloatProgressModel",
            "_view_count": null,
            "_view_module": "@jupyter-widgets/controls",
            "_view_module_version": "1.5.0",
            "_view_name": "ProgressView",
            "bar_style": "success",
            "description": "",
            "description_tooltip": null,
            "layout": "IPY_MODEL_cff23c60ed294c67b1790b5506ce64b1",
            "max": 7500,
            "min": 0,
            "orientation": "horizontal",
            "style": "IPY_MODEL_7226292382454bb8a1f3ed6051802f0d",
            "value": 7500
          }
        },
        "360ed32b8a014642bf56a5663989daac": {
          "model_module": "@jupyter-widgets/controls",
          "model_name": "HTMLModel",
          "model_module_version": "1.5.0",
          "state": {
            "_dom_classes": [],
            "_model_module": "@jupyter-widgets/controls",
            "_model_module_version": "1.5.0",
            "_model_name": "HTMLModel",
            "_view_count": null,
            "_view_module": "@jupyter-widgets/controls",
            "_view_module_version": "1.5.0",
            "_view_name": "HTMLView",
            "description": "",
            "description_tooltip": null,
            "layout": "IPY_MODEL_d826524cffbb406f9dbda6dc1d87a3de",
            "placeholder": "​",
            "style": "IPY_MODEL_28d7c4e8df834e23a37fb9d16251f21d",
            "value": " 7500/7500 [1:16:59&lt;00:00,  1.49it/s]"
          }
        },
        "a6d93a0a77a64f908c12668eba61210e": {
          "model_module": "@jupyter-widgets/base",
          "model_name": "LayoutModel",
          "model_module_version": "1.2.0",
          "state": {
            "_model_module": "@jupyter-widgets/base",
            "_model_module_version": "1.2.0",
            "_model_name": "LayoutModel",
            "_view_count": null,
            "_view_module": "@jupyter-widgets/base",
            "_view_module_version": "1.2.0",
            "_view_name": "LayoutView",
            "align_content": null,
            "align_items": null,
            "align_self": null,
            "border": null,
            "bottom": null,
            "display": null,
            "flex": null,
            "flex_flow": null,
            "grid_area": null,
            "grid_auto_columns": null,
            "grid_auto_flow": null,
            "grid_auto_rows": null,
            "grid_column": null,
            "grid_gap": null,
            "grid_row": null,
            "grid_template_areas": null,
            "grid_template_columns": null,
            "grid_template_rows": null,
            "height": null,
            "justify_content": null,
            "justify_items": null,
            "left": null,
            "margin": null,
            "max_height": null,
            "max_width": null,
            "min_height": null,
            "min_width": null,
            "object_fit": null,
            "object_position": null,
            "order": null,
            "overflow": null,
            "overflow_x": null,
            "overflow_y": null,
            "padding": null,
            "right": null,
            "top": null,
            "visibility": null,
            "width": null
          }
        },
        "8c57c0e5fcfa466dabcabde66c5365ff": {
          "model_module": "@jupyter-widgets/base",
          "model_name": "LayoutModel",
          "model_module_version": "1.2.0",
          "state": {
            "_model_module": "@jupyter-widgets/base",
            "_model_module_version": "1.2.0",
            "_model_name": "LayoutModel",
            "_view_count": null,
            "_view_module": "@jupyter-widgets/base",
            "_view_module_version": "1.2.0",
            "_view_name": "LayoutView",
            "align_content": null,
            "align_items": null,
            "align_self": null,
            "border": null,
            "bottom": null,
            "display": null,
            "flex": null,
            "flex_flow": null,
            "grid_area": null,
            "grid_auto_columns": null,
            "grid_auto_flow": null,
            "grid_auto_rows": null,
            "grid_column": null,
            "grid_gap": null,
            "grid_row": null,
            "grid_template_areas": null,
            "grid_template_columns": null,
            "grid_template_rows": null,
            "height": null,
            "justify_content": null,
            "justify_items": null,
            "left": null,
            "margin": null,
            "max_height": null,
            "max_width": null,
            "min_height": null,
            "min_width": null,
            "object_fit": null,
            "object_position": null,
            "order": null,
            "overflow": null,
            "overflow_x": null,
            "overflow_y": null,
            "padding": null,
            "right": null,
            "top": null,
            "visibility": null,
            "width": null
          }
        },
        "24dbcadfebd74d44becab5d0b9e3973d": {
          "model_module": "@jupyter-widgets/controls",
          "model_name": "DescriptionStyleModel",
          "model_module_version": "1.5.0",
          "state": {
            "_model_module": "@jupyter-widgets/controls",
            "_model_module_version": "1.5.0",
            "_model_name": "DescriptionStyleModel",
            "_view_count": null,
            "_view_module": "@jupyter-widgets/base",
            "_view_module_version": "1.2.0",
            "_view_name": "StyleView",
            "description_width": ""
          }
        },
        "cff23c60ed294c67b1790b5506ce64b1": {
          "model_module": "@jupyter-widgets/base",
          "model_name": "LayoutModel",
          "model_module_version": "1.2.0",
          "state": {
            "_model_module": "@jupyter-widgets/base",
            "_model_module_version": "1.2.0",
            "_model_name": "LayoutModel",
            "_view_count": null,
            "_view_module": "@jupyter-widgets/base",
            "_view_module_version": "1.2.0",
            "_view_name": "LayoutView",
            "align_content": null,
            "align_items": null,
            "align_self": null,
            "border": null,
            "bottom": null,
            "display": null,
            "flex": null,
            "flex_flow": null,
            "grid_area": null,
            "grid_auto_columns": null,
            "grid_auto_flow": null,
            "grid_auto_rows": null,
            "grid_column": null,
            "grid_gap": null,
            "grid_row": null,
            "grid_template_areas": null,
            "grid_template_columns": null,
            "grid_template_rows": null,
            "height": null,
            "justify_content": null,
            "justify_items": null,
            "left": null,
            "margin": null,
            "max_height": null,
            "max_width": null,
            "min_height": null,
            "min_width": null,
            "object_fit": null,
            "object_position": null,
            "order": null,
            "overflow": null,
            "overflow_x": null,
            "overflow_y": null,
            "padding": null,
            "right": null,
            "top": null,
            "visibility": null,
            "width": null
          }
        },
        "7226292382454bb8a1f3ed6051802f0d": {
          "model_module": "@jupyter-widgets/controls",
          "model_name": "ProgressStyleModel",
          "model_module_version": "1.5.0",
          "state": {
            "_model_module": "@jupyter-widgets/controls",
            "_model_module_version": "1.5.0",
            "_model_name": "ProgressStyleModel",
            "_view_count": null,
            "_view_module": "@jupyter-widgets/base",
            "_view_module_version": "1.2.0",
            "_view_name": "StyleView",
            "bar_color": null,
            "description_width": ""
          }
        },
        "d826524cffbb406f9dbda6dc1d87a3de": {
          "model_module": "@jupyter-widgets/base",
          "model_name": "LayoutModel",
          "model_module_version": "1.2.0",
          "state": {
            "_model_module": "@jupyter-widgets/base",
            "_model_module_version": "1.2.0",
            "_model_name": "LayoutModel",
            "_view_count": null,
            "_view_module": "@jupyter-widgets/base",
            "_view_module_version": "1.2.0",
            "_view_name": "LayoutView",
            "align_content": null,
            "align_items": null,
            "align_self": null,
            "border": null,
            "bottom": null,
            "display": null,
            "flex": null,
            "flex_flow": null,
            "grid_area": null,
            "grid_auto_columns": null,
            "grid_auto_flow": null,
            "grid_auto_rows": null,
            "grid_column": null,
            "grid_gap": null,
            "grid_row": null,
            "grid_template_areas": null,
            "grid_template_columns": null,
            "grid_template_rows": null,
            "height": null,
            "justify_content": null,
            "justify_items": null,
            "left": null,
            "margin": null,
            "max_height": null,
            "max_width": null,
            "min_height": null,
            "min_width": null,
            "object_fit": null,
            "object_position": null,
            "order": null,
            "overflow": null,
            "overflow_x": null,
            "overflow_y": null,
            "padding": null,
            "right": null,
            "top": null,
            "visibility": null,
            "width": null
          }
        },
        "28d7c4e8df834e23a37fb9d16251f21d": {
          "model_module": "@jupyter-widgets/controls",
          "model_name": "DescriptionStyleModel",
          "model_module_version": "1.5.0",
          "state": {
            "_model_module": "@jupyter-widgets/controls",
            "_model_module_version": "1.5.0",
            "_model_name": "DescriptionStyleModel",
            "_view_count": null,
            "_view_module": "@jupyter-widgets/base",
            "_view_module_version": "1.2.0",
            "_view_name": "StyleView",
            "description_width": ""
          }
        },
        "915ddc1ecf3241398c31b20135ec4c2d": {
          "model_module": "@jupyter-widgets/controls",
          "model_name": "HBoxModel",
          "model_module_version": "1.5.0",
          "state": {
            "_dom_classes": [],
            "_model_module": "@jupyter-widgets/controls",
            "_model_module_version": "1.5.0",
            "_model_name": "HBoxModel",
            "_view_count": null,
            "_view_module": "@jupyter-widgets/controls",
            "_view_module_version": "1.5.0",
            "_view_name": "HBoxView",
            "box_style": "",
            "children": [
              "IPY_MODEL_794da9acc3984c958fbd9e50885aebaf",
              "IPY_MODEL_53cd3097b3454c408e827a0c08767cf2",
              "IPY_MODEL_88d39f78687d4dc9ba13ae7fd28b1fdc"
            ],
            "layout": "IPY_MODEL_f12ce35949ee46639851b80adcd536a5"
          }
        },
        "794da9acc3984c958fbd9e50885aebaf": {
          "model_module": "@jupyter-widgets/controls",
          "model_name": "HTMLModel",
          "model_module_version": "1.5.0",
          "state": {
            "_dom_classes": [],
            "_model_module": "@jupyter-widgets/controls",
            "_model_module_version": "1.5.0",
            "_model_name": "HTMLModel",
            "_view_count": null,
            "_view_module": "@jupyter-widgets/controls",
            "_view_module_version": "1.5.0",
            "_view_name": "HTMLView",
            "description": "",
            "description_tooltip": null,
            "layout": "IPY_MODEL_d9fb8246cd6b459dade17f710423a4be",
            "placeholder": "​",
            "style": "IPY_MODEL_2b16e13b23fd4d1fb45233810be7ba14",
            "value": "100%"
          }
        },
        "53cd3097b3454c408e827a0c08767cf2": {
          "model_module": "@jupyter-widgets/controls",
          "model_name": "FloatProgressModel",
          "model_module_version": "1.5.0",
          "state": {
            "_dom_classes": [],
            "_model_module": "@jupyter-widgets/controls",
            "_model_module_version": "1.5.0",
            "_model_name": "FloatProgressModel",
            "_view_count": null,
            "_view_module": "@jupyter-widgets/controls",
            "_view_module_version": "1.5.0",
            "_view_name": "ProgressView",
            "bar_style": "success",
            "description": "",
            "description_tooltip": null,
            "layout": "IPY_MODEL_a09f0448bdc44384bbc9580cb6c7f964",
            "max": 3134,
            "min": 0,
            "orientation": "horizontal",
            "style": "IPY_MODEL_e3ba7a9ec1ae4f8ea580aa098e0a7f02",
            "value": 3134
          }
        },
        "88d39f78687d4dc9ba13ae7fd28b1fdc": {
          "model_module": "@jupyter-widgets/controls",
          "model_name": "HTMLModel",
          "model_module_version": "1.5.0",
          "state": {
            "_dom_classes": [],
            "_model_module": "@jupyter-widgets/controls",
            "_model_module_version": "1.5.0",
            "_model_name": "HTMLModel",
            "_view_count": null,
            "_view_module": "@jupyter-widgets/controls",
            "_view_module_version": "1.5.0",
            "_view_name": "HTMLView",
            "description": "",
            "description_tooltip": null,
            "layout": "IPY_MODEL_d15561eaebfd46fc9c5976c4f99350bb",
            "placeholder": "​",
            "style": "IPY_MODEL_f1b5913c96694c5282eeefe2215650dc",
            "value": " 3134/3134 [01:30&lt;00:00, 37.78it/s]"
          }
        },
        "f12ce35949ee46639851b80adcd536a5": {
          "model_module": "@jupyter-widgets/base",
          "model_name": "LayoutModel",
          "model_module_version": "1.2.0",
          "state": {
            "_model_module": "@jupyter-widgets/base",
            "_model_module_version": "1.2.0",
            "_model_name": "LayoutModel",
            "_view_count": null,
            "_view_module": "@jupyter-widgets/base",
            "_view_module_version": "1.2.0",
            "_view_name": "LayoutView",
            "align_content": null,
            "align_items": null,
            "align_self": null,
            "border": null,
            "bottom": null,
            "display": null,
            "flex": null,
            "flex_flow": null,
            "grid_area": null,
            "grid_auto_columns": null,
            "grid_auto_flow": null,
            "grid_auto_rows": null,
            "grid_column": null,
            "grid_gap": null,
            "grid_row": null,
            "grid_template_areas": null,
            "grid_template_columns": null,
            "grid_template_rows": null,
            "height": null,
            "justify_content": null,
            "justify_items": null,
            "left": null,
            "margin": null,
            "max_height": null,
            "max_width": null,
            "min_height": null,
            "min_width": null,
            "object_fit": null,
            "object_position": null,
            "order": null,
            "overflow": null,
            "overflow_x": null,
            "overflow_y": null,
            "padding": null,
            "right": null,
            "top": null,
            "visibility": null,
            "width": null
          }
        },
        "d9fb8246cd6b459dade17f710423a4be": {
          "model_module": "@jupyter-widgets/base",
          "model_name": "LayoutModel",
          "model_module_version": "1.2.0",
          "state": {
            "_model_module": "@jupyter-widgets/base",
            "_model_module_version": "1.2.0",
            "_model_name": "LayoutModel",
            "_view_count": null,
            "_view_module": "@jupyter-widgets/base",
            "_view_module_version": "1.2.0",
            "_view_name": "LayoutView",
            "align_content": null,
            "align_items": null,
            "align_self": null,
            "border": null,
            "bottom": null,
            "display": null,
            "flex": null,
            "flex_flow": null,
            "grid_area": null,
            "grid_auto_columns": null,
            "grid_auto_flow": null,
            "grid_auto_rows": null,
            "grid_column": null,
            "grid_gap": null,
            "grid_row": null,
            "grid_template_areas": null,
            "grid_template_columns": null,
            "grid_template_rows": null,
            "height": null,
            "justify_content": null,
            "justify_items": null,
            "left": null,
            "margin": null,
            "max_height": null,
            "max_width": null,
            "min_height": null,
            "min_width": null,
            "object_fit": null,
            "object_position": null,
            "order": null,
            "overflow": null,
            "overflow_x": null,
            "overflow_y": null,
            "padding": null,
            "right": null,
            "top": null,
            "visibility": null,
            "width": null
          }
        },
        "2b16e13b23fd4d1fb45233810be7ba14": {
          "model_module": "@jupyter-widgets/controls",
          "model_name": "DescriptionStyleModel",
          "model_module_version": "1.5.0",
          "state": {
            "_model_module": "@jupyter-widgets/controls",
            "_model_module_version": "1.5.0",
            "_model_name": "DescriptionStyleModel",
            "_view_count": null,
            "_view_module": "@jupyter-widgets/base",
            "_view_module_version": "1.2.0",
            "_view_name": "StyleView",
            "description_width": ""
          }
        },
        "a09f0448bdc44384bbc9580cb6c7f964": {
          "model_module": "@jupyter-widgets/base",
          "model_name": "LayoutModel",
          "model_module_version": "1.2.0",
          "state": {
            "_model_module": "@jupyter-widgets/base",
            "_model_module_version": "1.2.0",
            "_model_name": "LayoutModel",
            "_view_count": null,
            "_view_module": "@jupyter-widgets/base",
            "_view_module_version": "1.2.0",
            "_view_name": "LayoutView",
            "align_content": null,
            "align_items": null,
            "align_self": null,
            "border": null,
            "bottom": null,
            "display": null,
            "flex": null,
            "flex_flow": null,
            "grid_area": null,
            "grid_auto_columns": null,
            "grid_auto_flow": null,
            "grid_auto_rows": null,
            "grid_column": null,
            "grid_gap": null,
            "grid_row": null,
            "grid_template_areas": null,
            "grid_template_columns": null,
            "grid_template_rows": null,
            "height": null,
            "justify_content": null,
            "justify_items": null,
            "left": null,
            "margin": null,
            "max_height": null,
            "max_width": null,
            "min_height": null,
            "min_width": null,
            "object_fit": null,
            "object_position": null,
            "order": null,
            "overflow": null,
            "overflow_x": null,
            "overflow_y": null,
            "padding": null,
            "right": null,
            "top": null,
            "visibility": null,
            "width": null
          }
        },
        "e3ba7a9ec1ae4f8ea580aa098e0a7f02": {
          "model_module": "@jupyter-widgets/controls",
          "model_name": "ProgressStyleModel",
          "model_module_version": "1.5.0",
          "state": {
            "_model_module": "@jupyter-widgets/controls",
            "_model_module_version": "1.5.0",
            "_model_name": "ProgressStyleModel",
            "_view_count": null,
            "_view_module": "@jupyter-widgets/base",
            "_view_module_version": "1.2.0",
            "_view_name": "StyleView",
            "bar_color": null,
            "description_width": ""
          }
        },
        "d15561eaebfd46fc9c5976c4f99350bb": {
          "model_module": "@jupyter-widgets/base",
          "model_name": "LayoutModel",
          "model_module_version": "1.2.0",
          "state": {
            "_model_module": "@jupyter-widgets/base",
            "_model_module_version": "1.2.0",
            "_model_name": "LayoutModel",
            "_view_count": null,
            "_view_module": "@jupyter-widgets/base",
            "_view_module_version": "1.2.0",
            "_view_name": "LayoutView",
            "align_content": null,
            "align_items": null,
            "align_self": null,
            "border": null,
            "bottom": null,
            "display": null,
            "flex": null,
            "flex_flow": null,
            "grid_area": null,
            "grid_auto_columns": null,
            "grid_auto_flow": null,
            "grid_auto_rows": null,
            "grid_column": null,
            "grid_gap": null,
            "grid_row": null,
            "grid_template_areas": null,
            "grid_template_columns": null,
            "grid_template_rows": null,
            "height": null,
            "justify_content": null,
            "justify_items": null,
            "left": null,
            "margin": null,
            "max_height": null,
            "max_width": null,
            "min_height": null,
            "min_width": null,
            "object_fit": null,
            "object_position": null,
            "order": null,
            "overflow": null,
            "overflow_x": null,
            "overflow_y": null,
            "padding": null,
            "right": null,
            "top": null,
            "visibility": null,
            "width": null
          }
        },
        "f1b5913c96694c5282eeefe2215650dc": {
          "model_module": "@jupyter-widgets/controls",
          "model_name": "DescriptionStyleModel",
          "model_module_version": "1.5.0",
          "state": {
            "_model_module": "@jupyter-widgets/controls",
            "_model_module_version": "1.5.0",
            "_model_name": "DescriptionStyleModel",
            "_view_count": null,
            "_view_module": "@jupyter-widgets/base",
            "_view_module_version": "1.2.0",
            "_view_name": "StyleView",
            "description_width": ""
          }
        }
      }
    }
  },
  "cells": [
    {
      "cell_type": "code",
      "source": [
        "import torch\n",
        "import numpy as np\n",
        "import pandas as pd\n",
        "import matplotlib as plt\n",
        "import torch\n",
        "import torch.nn as nn\n",
        "import torch.nn.functional as F\n",
        "import torch.utils.data as data\n",
        "import torch.optim as opt\n",
        "import matplotlib.pyplot as plt\n",
        "from torch import Tensor\n",
        "from tqdm.notebook import tqdm\n",
        "from scipy.ndimage import gaussian_filter1d\n",
        "from torch_geometric.data import Data"
      ],
      "metadata": {
        "id": "9hpwti2Kyix1"
      },
      "execution_count": 1,
      "outputs": []
    },
    {
      "cell_type": "code",
      "source": [
        "from torch_geometric.datasets import WordNet18RR\n",
        "\n",
        "dataset = WordNet18RR(root='data/WordNet18RR')\n",
        "\n",
        "print()\n",
        "print(f'Dataset: {dataset}:')\n",
        "print('======================')\n",
        "print(f'Number of graphs: {len(dataset)}')\n",
        "print(f'Number of features: {dataset.num_features}')\n",
        "print(f'Number of classes: {dataset.num_classes}')\n",
        "\n",
        "data = dataset[0]  # Get the first graph object.\n",
        "\n",
        "print()\n",
        "print(data)\n",
        "print('===========================================================================================================')\n",
        "\n",
        "# Gather some statistics about the graph.\n",
        "print(f'Number of nodes: {data.num_nodes}')\n",
        "print(f'Number of edges: {data.num_edges}')\n",
        "print(f'Average node degree: {data.num_edges / data.num_nodes:.2f}')\n",
        "print(f'Number of training nodes: {data.train_mask.sum()}')\n",
        "print(f'Training node label rate: {int(data.train_mask.sum()) / data.num_nodes:.2f}')\n",
        "print(f'Has isolated nodes: {data.has_isolated_nodes()}')\n",
        "print(f'Has self-loops: {data.has_self_loops()}')\n",
        "print(f'Is undirected: {data.is_undirected()}')\n",
        "print(f'Possible types of edges: {torch.unique(data.edge_type).numpy()}')\n",
        "edge_types = torch.unique(data.edge_type).numpy().shape[0]\n",
        "print(f'Train edges: {data.train_mask.sum()}')\n",
        "print(f'Validation edges: {data.val_mask.sum()}')\n",
        "print(f'Test edges: {data.test_mask.sum()}')"
      ],
      "metadata": {
        "colab": {
          "base_uri": "https://localhost:8080/"
        },
        "id": "6_mdTtw-yYBU",
        "outputId": "a506a522-e181-49f8-f854-01790524f58d"
      },
      "execution_count": 2,
      "outputs": [
        {
          "output_type": "stream",
          "name": "stdout",
          "text": [
            "\n",
            "Dataset: WordNet18RR():\n",
            "======================\n",
            "Number of graphs: 1\n",
            "Number of features: 0\n",
            "Number of classes: 0\n",
            "\n",
            "Data(edge_index=[2, 93003], edge_type=[93003], train_mask=[93003], val_mask=[93003], test_mask=[93003], num_nodes=40943)\n",
            "===========================================================================================================\n",
            "Number of nodes: 40943\n",
            "Number of edges: 93003\n",
            "Average node degree: 2.27\n",
            "Number of training nodes: 86835\n",
            "Training node label rate: 2.12\n",
            "Has isolated nodes: False\n",
            "Has self-loops: True\n",
            "Is undirected: False\n",
            "Possible types of edges: [ 0  1  2  3  4  5  6  7  8  9 10]\n",
            "Train edges: 86835\n",
            "Validation edges: 3034\n",
            "Test edges: 3134\n"
          ]
        }
      ]
    },
    {
      "cell_type": "code",
      "source": [
        "# concatenate edge_index and edge_type in one tensor\n",
        "triplets = torch.cat((data.edge_index[0], data.edge_type, data.edge_index[1])).reshape((3, -1))\n",
        "triplets"
      ],
      "metadata": {
        "colab": {
          "base_uri": "https://localhost:8080/"
        },
        "id": "HKJID-cKzOB9",
        "outputId": "254b8c8e-92a8-4a03-d83e-01df894671d5"
      },
      "execution_count": 3,
      "outputs": [
        {
          "output_type": "execute_result",
          "data": {
            "text/plain": [
              "tensor([[    0,     0,     1,  ..., 40933, 40934, 40935],\n",
              "        [    3,     9,    10,  ...,     3,     3,     3],\n",
              "        [10211, 25525,  3891,  ...,  8943,  8648,  6809]])"
            ]
          },
          "metadata": {},
          "execution_count": 3
        }
      ]
    },
    {
      "cell_type": "code",
      "source": [
        "def triplets_by_mask(triplets: Tensor, mask: Tensor) -> Tensor:\n",
        "  return triplets[:, torch.where(mask)[0].numpy()]\n",
        "\n",
        "# split triples into train, validation and test\n",
        "train_triplets = triplets_by_mask(triplets, data.train_mask)\n",
        "val_triplets = triplets_by_mask(triplets, data.val_mask)\n",
        "test_triplets = triplets_by_mask(triplets, data.test_mask)\n",
        "\n",
        "train_triplets.shape, val_triplets.shape, test_triplets.shape"
      ],
      "metadata": {
        "colab": {
          "base_uri": "https://localhost:8080/"
        },
        "id": "2kO7a7qQBB6Q",
        "outputId": "a2857831-e6ab-4806-adb1-751e3a621d13"
      },
      "execution_count": 4,
      "outputs": [
        {
          "output_type": "execute_result",
          "data": {
            "text/plain": [
              "(torch.Size([3, 86835]), torch.Size([3, 3034]), torch.Size([3, 3134]))"
            ]
          },
          "metadata": {},
          "execution_count": 4
        }
      ]
    },
    {
      "cell_type": "code",
      "source": [
        "from typing import Tuple\n",
        "\n",
        "# takes head, tails and number of nodes and returns corrupded heads and tails\n",
        "def corrupted_triplets(\n",
        "    head: Tensor, \n",
        "    tail: Tensor, \n",
        "    nodes: int\n",
        ") -> Tuple[Tensor, Tensor]:\n",
        "  n = head.shape[0]\n",
        "  # choose what to corrupt head or tail\n",
        "  head_or_tail = torch.randint(0, 2, (n,)).bool()\n",
        "\n",
        "  # new values\n",
        "  rand_inds = torch.randint(0, nodes, size=(n,))\n",
        "  head_cor = torch.where(head_or_tail, head, rand_inds)\n",
        "  tail_cor = torch.where(head_or_tail, rand_inds, tail)\n",
        "\n",
        "  return (head_cor, tail_cor)"
      ],
      "metadata": {
        "id": "0c2plGDtHVus"
      },
      "execution_count": 5,
      "outputs": []
    },
    {
      "cell_type": "code",
      "source": [
        "class TransE(nn.Module):\n",
        "\n",
        "  def __init__(\n",
        "      self, \n",
        "      k: int, # embedding dimension\n",
        "      gamma: float, # margin\n",
        "      num_nodes: int, \n",
        "      num_diff_edges: int, \n",
        "      p: float # norm parameter\n",
        "  ):\n",
        "    super().__init__()\n",
        "\n",
        "    # saving hyperparameters \n",
        "    self.p = p\n",
        "    self.gamma = gamma\n",
        "    self.num_nodes = num_nodes\n",
        "    self.num_diff_edges = num_diff_edges\n",
        "\n",
        "    # bounds for initialization\n",
        "    rand_lower_bound = -6 * np.sqrt(k)\n",
        "    rand_upper_bound =  6 * np.sqrt(k)\n",
        "    # embeddings for relations\n",
        "    self.rel_embs = torch.zeros((num_diff_edges, k))\n",
        "    self.rel_embs.uniform_(rand_lower_bound, rand_upper_bound)\n",
        "    self.rel_embs = F.normalize(self.rel_embs, dim=1)\n",
        "    self.rel_embs = self.rel_embs.requires_grad_()\n",
        "\n",
        "    # embeddings for enteties\n",
        "    self.ent_embs = torch.zeros((num_nodes, k))\n",
        "    self.ent_embs.uniform_(rand_lower_bound, rand_upper_bound)\n",
        "    self.ent_embs = self.ent_embs.requires_grad_()\n",
        "\n",
        "\n",
        "  # take triplet (h, l, t) and return dissimilarity of h + l and t  \n",
        "  def forward(self, head_ind: Tensor, label: Tensor, tail_ind: Tensor):\n",
        "    head = self.ent_embs[head_ind]\n",
        "    tail = self.ent_embs[tail_ind]\n",
        "\n",
        "    head = F.normalize(head, dim=1)\n",
        "    tail = F.normalize(tail, dim=1)\n",
        "\n",
        "    rel = self.rel_embs[label]\n",
        "\n",
        "    return torch.norm(head + rel - tail, p=self.p, dim=1)\n",
        "  \n",
        "  \n",
        "  def loss(self, head_ind: Tensor, label: Tensor, tail_ind: Tensor):\n",
        "    head_cor_ind, tail_cor_ind = corrupted_triplets(\n",
        "        head_ind, \n",
        "        tail_ind, \n",
        "        self.num_nodes\n",
        "    )\n",
        "\n",
        "    diss_valid = self(head_ind, label, tail_ind)\n",
        "    diss_corrupted = self(head_cor_ind, label, tail_cor_ind)\n",
        "\n",
        "    diff = diss_valid - diss_corrupted + self.gamma\n",
        "    diff[diff < 0] = 0\n",
        "\n",
        "    return diff\n",
        "\n",
        "  \n",
        "  def get_entities_embs(self) -> Tensor:\n",
        "    return F.normalize(self.ent_embs, dim=1)\n",
        "  \n",
        "  \n",
        "  def get_relations_embs(self) -> Tensor:\n",
        "    return self.rel_embs.clone()"
      ],
      "metadata": {
        "id": "t4oE2VgtDjJ5"
      },
      "execution_count": 6,
      "outputs": []
    },
    {
      "cell_type": "code",
      "source": [
        "model = TransE(\n",
        "  k=20, \n",
        "  gamma=2, \n",
        "  num_nodes=data.num_nodes, \n",
        "  num_diff_edges=edge_types, \n",
        "  p=1\n",
        ")\n",
        "\n",
        "losses = []\n",
        "val_losses = []"
      ],
      "metadata": {
        "id": "cR0QZUIZQASN"
      },
      "execution_count": 7,
      "outputs": []
    },
    {
      "cell_type": "code",
      "source": [
        "opt = torch.optim.Adam([model.ent_embs, model.rel_embs], lr=0.05)"
      ],
      "metadata": {
        "id": "n2th5hj82d0g"
      },
      "execution_count": 8,
      "outputs": []
    },
    {
      "cell_type": "code",
      "source": [
        "epochs = 7500\n",
        "batch_size = 4096\n",
        "\n",
        "for epoch in tqdm(range(epochs)):\n",
        "\n",
        "  # permutation for batch sampling\n",
        "  permutation = torch.randperm(train_triplets.shape[1])\n",
        "\n",
        "  for i in range(0, train_triplets.shape[1], batch_size):\n",
        "    # sampling batch\n",
        "    indices = permutation[i : i + batch_size]\n",
        "    loss = model.loss(\n",
        "        train_triplets[0, indices],\n",
        "        train_triplets[1, indices],\n",
        "        train_triplets[2, indices]\n",
        "    ).sum()\n",
        "\n",
        "    opt.zero_grad()\n",
        "    loss.backward()\n",
        "    opt.step()\n",
        "\n",
        "    losses.append(loss.item() / indices.shape[0])\n",
        "  \n",
        "  # calculating loss for validation dataset\n",
        "  val_losses.append(model.loss(\n",
        "      val_triplets[0], val_triplets[1], val_triplets[2]\n",
        "  ).sum().item() / val_triplets.shape[1])"
      ],
      "metadata": {
        "colab": {
          "base_uri": "https://localhost:8080/",
          "height": 49,
          "referenced_widgets": [
            "1311727541854c07a8c9023927d979c3",
            "3a2fe6efcea14540bedb3bb9480e19d0",
            "bf2ebca902de4b6fba2b38057a0f2c80",
            "360ed32b8a014642bf56a5663989daac",
            "a6d93a0a77a64f908c12668eba61210e",
            "8c57c0e5fcfa466dabcabde66c5365ff",
            "24dbcadfebd74d44becab5d0b9e3973d",
            "cff23c60ed294c67b1790b5506ce64b1",
            "7226292382454bb8a1f3ed6051802f0d",
            "d826524cffbb406f9dbda6dc1d87a3de",
            "28d7c4e8df834e23a37fb9d16251f21d"
          ]
        },
        "id": "rnB_6MhDQWdD",
        "outputId": "33342db5-02e4-43a2-aa4f-96a74083aaff"
      },
      "execution_count": 9,
      "outputs": [
        {
          "output_type": "display_data",
          "data": {
            "text/plain": [
              "  0%|          | 0/7500 [00:00<?, ?it/s]"
            ],
            "application/vnd.jupyter.widget-view+json": {
              "version_major": 2,
              "version_minor": 0,
              "model_id": "1311727541854c07a8c9023927d979c3"
            }
          },
          "metadata": {}
        }
      ]
    },
    {
      "cell_type": "code",
      "source": [
        "plt.plot(gaussian_filter1d(losses[:], 10))\n",
        "plt.title(\"Train losses\")\n",
        "plt.show()\n",
        "plt.plot(gaussian_filter1d(val_losses[2000:], 10), color='orange')\n",
        "plt.title(\"Val losses (tail)\")\n",
        "plt.show()"
      ],
      "metadata": {
        "colab": {
          "base_uri": "https://localhost:8080/",
          "height": 545
        },
        "id": "5I0_zw6HeuBn",
        "outputId": "9a9c80a9-b127-4305-f8e9-6317a1f34602"
      },
      "execution_count": 10,
      "outputs": [
        {
          "output_type": "display_data",
          "data": {
            "text/plain": [
              "<Figure size 432x288 with 1 Axes>"
            ],
            "image/png": "[encoded data removed]"
          },
          "metadata": {
            "needs_background": "light"
          }
        },
        {
          "output_type": "display_data",
          "data": {
            "text/plain": [
              "<Figure size 432x288 with 1 Axes>"
            ],
            "image/png": "[encoded data removed]"
          },
          "metadata": {
            "needs_background": "light"
          }
        }
      ]
    },
    {
      "cell_type": "code",
      "source": [
        "# return 2 predicted ranks (replacing head and trail)\n",
        "def accuracy_for_one(\n",
        "    ent_emb: Tensor, \n",
        "    rel_emb: Tensor, \n",
        "    triplet: Tensor,\n",
        "    p_norm: float\n",
        ") -> Tuple[float, float]:\n",
        "  num_nodes = ent_emb.shape[0]\n",
        "\n",
        "  head = ent_emb[triplet[0]]\n",
        "  label = rel_emb[triplet[1]]\n",
        "  tail = ent_emb[triplet[2]]\n",
        "\n",
        "  correct_diss = torch.norm(head + label - tail, p=p_norm)\n",
        "\n",
        "  # calculating all dissimilarities with replaced head\n",
        "  diss_with_head_replaced = torch.norm(\n",
        "      ent_emb + (label - tail).repeat(num_nodes, 1),\n",
        "      p=p_norm, dim=1\n",
        "  )\n",
        "\n",
        "  # calculating all dissimilarities with replaced tail\n",
        "  diss_with_tail_replaced = torch.norm(\n",
        "      (head + label).repeat(num_nodes, 1) - ent_emb,\n",
        "      p=p_norm, dim=1\n",
        "  )\n",
        "\n",
        "  # rank among triplets with replaced head\n",
        "  rank_heads = torch.sum(diss_with_head_replaced < correct_diss)\n",
        "  # rank among triplets with replaced tail\n",
        "  rank_tails = torch.sum(diss_with_tail_replaced < correct_diss)\n",
        "\n",
        "  return (rank_heads.item(), rank_tails.item())\n",
        "\n",
        "# return MR and Hits@10\n",
        "def mean_accuracy(\n",
        "    ent_emb: Tensor, \n",
        "    rel_emb: Tensor, \n",
        "    triplets: Tensor,\n",
        "    p_norm: float\n",
        ") -> Tuple[float, float]:\n",
        "  ranks_sum = 0\n",
        "  hits10 = 0\n",
        "\n",
        "  for triplet in tqdm(triplets.t()):\n",
        "    r1, r2 = accuracy_for_one(ent_emb, rel_emb, triplet, p_norm)\n",
        "    ranks_sum += r1 + r2\n",
        "    hits10 += (r1 < 10) + (r2 < 10)\n",
        "  \n",
        "  ranks_sum /= triplets.shape[1] * 2\n",
        "  hits10 /= triplets.shape[1] * 2\n",
        "\n",
        "  return ranks_sum, hits10"
      ],
      "metadata": {
        "id": "9jPx6aEG91RL"
      },
      "execution_count": 11,
      "outputs": []
    },
    {
      "cell_type": "code",
      "source": [
        "MR, HTS10 = mean_accuracy(\n",
        "    model.get_entities_embs(), \n",
        "    model.get_relations_embs(), \n",
        "    test_triplets, \n",
        "    p_norm=1\n",
        ")\n",
        "print(\"Mean rank:\", MR)\n",
        "print(\"Hits@10:\", HTS10)"
      ],
      "metadata": {
        "id": "t_8YQ_c11xlC",
        "colab": {
          "base_uri": "https://localhost:8080/",
          "height": 84,
          "referenced_widgets": [
            "915ddc1ecf3241398c31b20135ec4c2d",
            "794da9acc3984c958fbd9e50885aebaf",
            "53cd3097b3454c408e827a0c08767cf2",
            "88d39f78687d4dc9ba13ae7fd28b1fdc",
            "f12ce35949ee46639851b80adcd536a5",
            "d9fb8246cd6b459dade17f710423a4be",
            "2b16e13b23fd4d1fb45233810be7ba14",
            "a09f0448bdc44384bbc9580cb6c7f964",
            "e3ba7a9ec1ae4f8ea580aa098e0a7f02",
            "d15561eaebfd46fc9c5976c4f99350bb",
            "f1b5913c96694c5282eeefe2215650dc"
          ]
        },
        "outputId": "b890f010-bfff-42e4-d1a4-154648168dad"
      },
      "execution_count": 12,
      "outputs": [
        {
          "output_type": "display_data",
          "data": {
            "text/plain": [
              "  0%|          | 0/3134 [00:00<?, ?it/s]"
            ],
            "application/vnd.jupyter.widget-view+json": {
              "version_major": 2,
              "version_minor": 0,
              "model_id": "915ddc1ecf3241398c31b20135ec4c2d"
            }
          },
          "metadata": {}
        },
        {
          "output_type": "stream",
          "name": "stdout",
          "text": [
            "Mean rank: 3890.0285577536692\n",
            "Hits@10: 0.40587109125717935\n"
          ]
        }
      ]
    }
  ]
}